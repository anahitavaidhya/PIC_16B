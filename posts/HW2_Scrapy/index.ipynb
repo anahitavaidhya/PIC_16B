{
 "cells": [
  {
   "cell_type": "raw",
   "id": "89fdb0cc-9fc4-4a49-9f0c-cc339cbeb29e",
   "metadata": {},
   "source": [
    "---\n",
    "title: \"Lights, Camera, Scrapy!\"\n",
    "author: \"Anahita Vaidhya\"\n",
    "date: \"2025-02-20\"\n",
    "categories: [About, Welcome, HW0_PenguinVisualization, HW1_InteractiveGraphics, HW2_Scrapy]\n",
    "output: \n",
    "  html_document: \n",
    "    theme: cosmo\n",
    "---"
   ]
  },
  {
   "cell_type": "markdown",
   "id": "fd132dc0-383f-4d83-9458-7a19af9d5b19",
   "metadata": {},
   "source": [
    "## Introduction\n",
    "\n",
    "Welcome back to the third blog post in the Python for Beginners series!\n",
    "\n",
    "In this blog post, I’m going to walk you through how I built a web scraper using Scrapy to extract and analyze movie cast data from The Movie Database (TMDB)."
   ]
  },
  {
   "cell_type": "markdown",
   "id": "4852ebb3-6963-44a8-a2be-bfa43f010d88",
   "metadata": {},
   "source": [
    "### Setting Up the Project\n",
    "\n",
    "#### Pick Your Favorite Movie\n",
    "Start off with picking your favorite movie and find its TMDB page by searching on https://www.themoviedb.org/. For this tutorial, we will be choosing: https://www.themoviedb.org/movie/671-harry-potter-and-the-philosopher-s-stone/\n",
    "- *Save this URL for now.*"
   ]
  },
  {
   "cell_type": "markdown",
   "id": "a7f4bed2-8322-4c70-a082-e371c5ad5878",
   "metadata": {},
   "source": [
    "#### Walk Through Before Coding\n",
    "Before jumping into coding, it’s important to understand the navigation steps our scraper will take. This helps us to make sure that we are targeting the right elements and URLs. Manually click through the site and try to find a structure of the web pages we need to scrape.\n",
    "\n",
    "**Steps:**\n",
    "\n",
    "1. Start on a movie’s main page and locate the Full Cast & Crew link. Click it.\n",
    "\n",
    "2. Observe that the URL now follows the pattern <original_url>/cast/.\n",
    "\n",
    "3. Scroll to the Cast section and click on an actor’s profile picture.\n",
    "\n",
    "4. This leads to an actor-specific page with a URL like https://www.themoviedb.org/person/4566-alan-rickman.\n",
    "\n",
    "5. Scroll down to the Acting section and take note of movie and TV show titles listed."
   ]
  },
  {
   "cell_type": "markdown",
   "id": "4d4e44ce-92fa-4dcc-bcc7-93517b0270c1",
   "metadata": {},
   "source": [
    "#### Initialize Your Project\n",
    "In your terminal, write the following lines to initialize your project:"
   ]
  },
  {
   "cell_type": "code",
   "execution_count": null,
   "id": "a7f50da8-1ad8-4393-8f29-1fa5f8bf3b73",
   "metadata": {},
   "outputs": [],
   "source": [
    "conda activate PIC16B-25W\n",
    "scrapy startproject TMDB_scraper\n",
    "cd TMDB_scraper"
   ]
  },
  {
   "cell_type": "markdown",
   "id": "6a811557-ef20-40aa-943e-26a520abd983",
   "metadata": {},
   "source": [
    "#### Tweak Settings for Efficient Scraping\n",
    "Before running our scraper, we need to make a small tweak in the Scrapy settings to prevent excessive data collection during testing. Open settings.py and add the following line:"
   ]
  },
  {
   "cell_type": "code",
   "execution_count": null,
   "id": "22107798-223e-4cff-a325-27233b9599f1",
   "metadata": {},
   "outputs": [],
   "source": [
    "CLOSESPIDER_PAGECOUNT = 20"
   ]
  },
  {
   "cell_type": "markdown",
   "id": "f85c8230-6c66-435f-bc86-9c421cbd2aab",
   "metadata": {},
   "source": [
    "This will make sure that our scraper stops after processing 20 pages, allowing us to check that everything is working correctly without being overwhelming to our system. Once we’re okay with the scraper’s behavior, we can remove this limit."
   ]
  },
  {
   "cell_type": "markdown",
   "id": "c9064c00-5965-4415-a9c5-3de37f91271d",
   "metadata": {},
   "source": [
    "#### Avoiding 403 Forbidden Errors\n",
    "As we start making automated requests, TMDB may detect that we are using a scraper and block our requests, resulting in a 403 Forbidden error. This happens when the website identifies that a bot (rather than a human) is making the requests. A simple workaround is modifying the User-Agent in settings.py to mimic a real browser.\n",
    "\n",
    "Run the following command in Terminal:"
   ]
  },
  {
   "cell_type": "code",
   "execution_count": null,
   "id": "57695629-d285-40d5-85d0-06afbf9bea3a",
   "metadata": {},
   "outputs": [],
   "source": [
    "scrapy shell -s USER_AGENT='Scrapy/2.8.0 (+https://scrapy.org)' https://www.themoviedb.org/..."
   ]
  },
  {
   "cell_type": "markdown",
   "id": "c87e564d-6689-4958-ae7e-07c5be175e89",
   "metadata": {},
   "source": [
    "### Implementing the Scraper\n",
    "Our first step is creating a new Python file: inside the tmdb_scraper/spiders/ directory, create a new Python file called tmdb_spider.py to implement our scraper."
   ]
  },
  {
   "cell_type": "markdown",
   "id": "24a0fe86-45d8-48ac-a969-21f70b26aaf2",
   "metadata": {},
   "source": [
    "Our scraper will work in three main steps which we will implement in functions:\n",
    "\n",
    "1. First, it will parse the main movie page which will extract the URL for the full cast page.\n",
    "\n",
    "2. Then, it will parse the full credits page which will extract actor links.\n",
    "\n",
    "3. And finally, it will parse actor pages which will then extract the actor’s name and the list of movies they have acted in."
   ]
  },
  {
   "cell_type": "markdown",
   "id": "96c63c16-73eb-4dc0-98aa-6b5831e53908",
   "metadata": {},
   "source": [
    "#### 1. Parsing the Main Movie Page (parse Method)\n",
    "\n",
    "The scraper starts by navigating to a movie’s main page. From here, it constructs a URL to the full cast and crew page and sends a request to parse it."
   ]
  },
  {
   "cell_type": "code",
   "execution_count": null,
   "id": "ec2e3fef-5613-4c28-bea3-30ddff873a15",
   "metadata": {},
   "outputs": [],
   "source": [
    "def parse(self, response):\n",
    "        \"\"\"\n",
    "        Parses the movie page and navigates to the Full Cast & Crew page.\n",
    "\n",
    "        Yields:\n",
    "            scrapy.Request: A request to the Full Cast & Crew page, calling 'parse_full_credits'.\n",
    "        \"\"\"\n",
    "        # Hardcoding the path to the Full Cast & Crew page\n",
    "        full_cast_url = response.url + \"/cast\"\n",
    "    \n",
    "        # Yield a request to the full credits page, calling parse_full_credits\n",
    "        yield scrapy.Request(full_cast_url, callback=self.parse_full_credits)"
   ]
  },
  {
   "cell_type": "markdown",
   "id": "49a11d56-72d4-4bb2-85e2-c1248ba3eff9",
   "metadata": {},
   "source": [
    "#### 2. Parsing the Full Credits Page (parse_full_credits Method)\n",
    "\n",
    "Once on the full cast and crew page, we extract all actor profile links (ignoring crew members) and send requests to each actor's page."
   ]
  },
  {
   "cell_type": "code",
   "execution_count": null,
   "id": "ee19346b-b4ec-4255-92ad-f9bd17d251f6",
   "metadata": {},
   "outputs": [],
   "source": [
    "def parse_full_credits(self, response):\n",
    "        \"\"\"\n",
    "        Extracts actor links from the Full Cast & Crew page and navigates to each actor's page.\n",
    "\n",
    "        Args:\n",
    "            response: The HTTP response for the Full Cast & Crew page.\n",
    "        \n",
    "        Yields:\n",
    "            scrapy.Request: Requests for each actor's page, using `parse_actor_page` as the callback.\n",
    "        \"\"\"\n",
    "        # Select actor links while excluding crew members\n",
    "        actor_links = response.xpath(\"//ol[contains(@class, 'people credits ')]/li[not(contains(@class, 'people credits crew')) and not(ancestor::div[contains(@class, 'crew_wrapper')])]/a[@href]/@href\").getall()\n",
    "        \n",
    "        # Yield requests for actor pages, using `parse_actor_page` as the callback\n",
    "        for link in actor_links:\n",
    "            full_url = response.urljoin(link)  \n",
    "            yield scrapy.Request(url=full_url, callback=self.parse_actor_page)"
   ]
  },
  {
   "cell_type": "markdown",
   "id": "df83b7dd-82f4-481a-9c42-d579d74094b2",
   "metadata": {},
   "source": [
    "#### 3. Parsing the Actor Page (parse_actor_page Method)\n",
    "\n",
    "On the actor’s page, we extract their name and list of movies/TV shows they’ve appeared in."
   ]
  },
  {
   "cell_type": "code",
   "execution_count": null,
   "id": "01fc3480-21ec-4c69-8f35-e403c8543b75",
   "metadata": {},
   "outputs": [],
   "source": [
    "def parse_actor_page(self, response):\n",
    "        \"\"\"\n",
    "        Extracts actor information and acting credits from the actor's page.\n",
    "\n",
    "        Args:\n",
    "            response: The HTTP response for the actor's page.\n",
    "\n",
    "        Yields:\n",
    "            dict: A dictionary containing the actor's name and a unique movie/TV name.\n",
    "        \"\"\"\n",
    "        # Extract actor's name from the page header\n",
    "        actor_name = response.css('h2.title a::text').get()\n",
    "        if actor_name:\n",
    "            actor_name = actor_name.strip()\n",
    "        else:\n",
    "            return\n",
    "\n",
    "        # Find the Acting section and extract movie/TV show titles\n",
    "        acting_section = response.xpath(\"//h3[contains(text(), 'Acting')]/following-sibling::table[1]\")\n",
    "        if not acting_section:\n",
    "            return\n",
    "        movie_titles = acting_section.xpath(\".//bdi/text()\").getall()\n",
    "\n",
    "        # Remove duplicate titles using a set\n",
    "        unique_titles = set(movie_titles)\n",
    "\n",
    "        # Yield a dictionary for each unique movie/TV show\n",
    "        for title in unique_titles:\n",
    "            yield {\n",
    "                \"actor\": actor_name,\n",
    "                \"movie_or_TV_name\": title.strip()\n",
    "            }"
   ]
  },
  {
   "cell_type": "markdown",
   "id": "1c3f9f42-bea2-4dcd-8493-4e2952fccb59",
   "metadata": {},
   "source": [
    "### Running the Scraper\n",
    "\n",
    "To run the scraper, use the following command in the Terminal:"
   ]
  },
  {
   "cell_type": "code",
   "execution_count": null,
   "id": "a9cfaf74-aef5-40f8-a387-3c842d307204",
   "metadata": {},
   "outputs": [],
   "source": [
    "scrapy crawl tmdb_spider -o results.csv -a subdir=671-harry-potter-and-the-philosopher-s-stone"
   ]
  },
  {
   "cell_type": "markdown",
   "id": "9f7fa2c8-6ec9-48af-a34f-d38b8c227a51",
   "metadata": {},
   "source": [
    "*Feel free to use a \"subdir\" of your choice! This is just an example using Harry Potter and the Philosopher's Stone.*\n",
    "\n",
    "This will scrape the cast data for Harry Potter and the Philosopher’s Stone and save the results to results.csv."
   ]
  },
  {
   "cell_type": "markdown",
   "id": "584a3117-833b-499c-84fc-2a1bdfff14a0",
   "metadata": {},
   "source": [
    "### Results\n",
    "After running the recommendation system, I decided to create a simple but intuitive dataframe to find which movies and TV shows share the most actors with our target film."
   ]
  },
  {
   "cell_type": "markdown",
   "id": "354fa02d-81a0-4bdb-8245-dd313c97bfbd",
   "metadata": {},
   "source": [
    "Import libraries:"
   ]
  },
  {
   "cell_type": "code",
   "execution_count": 1,
   "id": "bed08625-1071-4e34-8d5d-1256297f10d9",
   "metadata": {},
   "outputs": [],
   "source": [
    "import pandas as pd\n",
    "import matplotlib.pyplot as plt  \n",
    "from collections import defaultdict"
   ]
  },
  {
   "cell_type": "markdown",
   "id": "cc88ff58-1b29-45bf-bbad-1ece8c97bea3",
   "metadata": {},
   "source": [
    "Create a data frame that has two columns: Movie/TV Name and Number of Actors Shared:"
   ]
  },
  {
   "cell_type": "code",
   "execution_count": 2,
   "id": "9fccb726-e4e6-45dc-bf40-cbc7d8decd32",
   "metadata": {},
   "outputs": [],
   "source": [
    "# Convert the scraped data in the CSV file to a data frame\n",
    "results = pd.read_csv(\"results.csv\")\n",
    "\n",
    "# Create a dictionary to count how many times each movie/TV show appears\n",
    "# Key: Movie/TV show name, Value: Number of shared actors\n",
    "movie_map = defaultdict(int)\n",
    "\n",
    "# Iterate over each row in the results DataFrame\n",
    "for index, row in results.iterrows():\n",
    "    # Skip the target movie\n",
    "    if row.at[\"movie_or_TV_name\"] == \"Harry Potter and the Philosopher's Stone\":\n",
    "        continue\n",
    "    # Increment the count for the current movie/TV show\n",
    "    movie_map[row.at[\"movie_or_TV_name\"]]+=1\n",
    "\n",
    "# Convert the dictionary into a data frame\n",
    "shared_actors = pd.DataFrame(list(movie_map.items()), columns=['Movie/TV Name', 'Number of Shared Actors'])\n",
    "# Sort the data frame\n",
    "shared_actors = shared_actors.sort_values(by='Number of Shared Actors', ascending=False)"
   ]
  },
  {
   "cell_type": "code",
   "execution_count": 3,
   "id": "faa2116a-b62c-4cf7-8cfc-f91e8328cf0f",
   "metadata": {},
   "outputs": [
    {
     "data": {
      "text/html": [
       "<div>\n",
       "<style scoped>\n",
       "    .dataframe tbody tr th:only-of-type {\n",
       "        vertical-align: middle;\n",
       "    }\n",
       "\n",
       "    .dataframe tbody tr th {\n",
       "        vertical-align: top;\n",
       "    }\n",
       "\n",
       "    .dataframe thead th {\n",
       "        text-align: right;\n",
       "    }\n",
       "</style>\n",
       "<table border=\"1\" class=\"dataframe\">\n",
       "  <thead>\n",
       "    <tr style=\"text-align: right;\">\n",
       "      <th></th>\n",
       "      <th>Movie/TV Name</th>\n",
       "      <th>Number of Shared Actors</th>\n",
       "    </tr>\n",
       "  </thead>\n",
       "  <tbody>\n",
       "    <tr>\n",
       "      <th>102</th>\n",
       "      <td>Harry Potter and the Chamber of Secrets</td>\n",
       "      <td>25</td>\n",
       "    </tr>\n",
       "    <tr>\n",
       "      <th>37</th>\n",
       "      <td>Harry Potter and the Prisoner of Azkaban</td>\n",
       "      <td>15</td>\n",
       "    </tr>\n",
       "    <tr>\n",
       "      <th>72</th>\n",
       "      <td>Harry Potter and the Deathly Hallows: Part 2</td>\n",
       "      <td>15</td>\n",
       "    </tr>\n",
       "    <tr>\n",
       "      <th>173</th>\n",
       "      <td>Doctor Who</td>\n",
       "      <td>12</td>\n",
       "    </tr>\n",
       "    <tr>\n",
       "      <th>53</th>\n",
       "      <td>Harry Potter and the Deathly Hallows: Part 1</td>\n",
       "      <td>12</td>\n",
       "    </tr>\n",
       "    <tr>\n",
       "      <th>...</th>\n",
       "      <td>...</td>\n",
       "      <td>...</td>\n",
       "    </tr>\n",
       "    <tr>\n",
       "      <th>564</th>\n",
       "      <td>Mo</td>\n",
       "      <td>1</td>\n",
       "    </tr>\n",
       "    <tr>\n",
       "      <th>565</th>\n",
       "      <td>Stepping Out</td>\n",
       "      <td>1</td>\n",
       "    </tr>\n",
       "    <tr>\n",
       "      <th>566</th>\n",
       "      <td>Artsnight</td>\n",
       "      <td>1</td>\n",
       "    </tr>\n",
       "    <tr>\n",
       "      <th>567</th>\n",
       "      <td>Bathtime</td>\n",
       "      <td>1</td>\n",
       "    </tr>\n",
       "    <tr>\n",
       "      <th>1234</th>\n",
       "      <td>1Life</td>\n",
       "      <td>1</td>\n",
       "    </tr>\n",
       "  </tbody>\n",
       "</table>\n",
       "<p>1235 rows × 2 columns</p>\n",
       "</div>"
      ],
      "text/plain": [
       "                                     Movie/TV Name  Number of Shared Actors\n",
       "102        Harry Potter and the Chamber of Secrets                       25\n",
       "37        Harry Potter and the Prisoner of Azkaban                       15\n",
       "72    Harry Potter and the Deathly Hallows: Part 2                       15\n",
       "173                                     Doctor Who                       12\n",
       "53    Harry Potter and the Deathly Hallows: Part 1                       12\n",
       "...                                            ...                      ...\n",
       "564                                             Mo                        1\n",
       "565                                   Stepping Out                        1\n",
       "566                                      Artsnight                        1\n",
       "567                                       Bathtime                        1\n",
       "1234                                         1Life                        1\n",
       "\n",
       "[1235 rows x 2 columns]"
      ]
     },
     "execution_count": 3,
     "metadata": {},
     "output_type": "execute_result"
    }
   ],
   "source": [
    "shared_actors"
   ]
  },
  {
   "cell_type": "markdown",
   "id": "90810ba9-02da-46df-93ba-3a307ed1954a",
   "metadata": {},
   "source": [
    "Using this data frame, create an intuitive visualization using Matplotlib"
   ]
  },
  {
   "cell_type": "code",
   "execution_count": 4,
   "id": "52c5b703-a8ab-4933-86b5-ac1fb7e30be3",
   "metadata": {},
   "outputs": [
    {
     "data": {
      "image/png": "[encoded data removed]",
      "text/plain": [
       "<Figure size 1200x600 with 1 Axes>"
      ]
     },
     "metadata": {},
     "output_type": "display_data"
    }
   ],
   "source": [
    "# Create bar chart\n",
    "plt.figure(figsize=(12, 6))\n",
    "plt.barh(shared_actors[\"Movie/TV Name\"].head(10), shared_actors[\"Number of Shared Actors\"].head(10), color=\"lightblue\")  \n",
    "plt.xlabel(\"Number of Shared Actors\")  \n",
    "plt.ylabel(\"Movie / TV Show\")  \n",
    "plt.title(\"Top Movies & TV Shows Sharing Actors with Target Movie\")  \n",
    "plt.gca().invert_yaxis()  \n",
    "plt.show()  "
   ]
  },
  {
   "cell_type": "markdown",
   "id": "c1026e49-2402-452a-b881-bd673acde798",
   "metadata": {},
   "source": [
    "### Conclusion\n",
    "And that's it for this week's blog post! I hope you learned something about the basics of web scraping and hope to see you next week!"
   ]
  },
  {
   "cell_type": "code",
   "execution_count": null,
   "id": "83179cc7-9588-4ded-b575-dc4e9582da8c",
   "metadata": {},
   "outputs": [],
   "source": []
  }
 ],
 "metadata": {
  "kernelspec": {
   "display_name": "Python 3 (ipykernel)",
   "language": "python",
   "name": "python3"
  },
  "language_info": {
   "codemirror_mode": {
    "name": "ipython",
    "version": 3
   },
   "file_extension": ".py",
   "mimetype": "text/x-python",
   "name": "python",
   "nbconvert_exporter": "python",
   "pygments_lexer": "ipython3",
   "version": "3.11.7"
  }
 },
 "nbformat": 4,
 "nbformat_minor": 5
}
